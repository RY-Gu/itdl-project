{
 "cells": [
  {
   "cell_type": "code",
   "execution_count": null,
   "metadata": {
    "colab": {},
    "colab_type": "code",
    "id": "YDyydZPJ5MRd"
   },
   "outputs": [],
   "source": [
    "from argument import Argument\n",
    "from dataset import Dataset\n",
    "from model import Model\n",
    "from train import train, evaluate, update_lr\n",
    "from test import test"
   ]
  },
  {
   "cell_type": "code",
   "execution_count": null,
   "metadata": {
    "colab": {
     "base_uri": "https://localhost:8080/",
     "height": 85
    },
    "colab_type": "code",
    "executionInfo": {
     "elapsed": 10776,
     "status": "ok",
     "timestamp": 1576419426376,
     "user": {
      "displayName": "구노영",
      "photoUrl": "",
      "userId": "06136412286660822920"
     },
     "user_tz": -540
    },
    "id": "QBYG4g77c-7B",
    "outputId": "6314f9a0-e513-4bc1-e957-a9b0e4dfe52a"
   },
   "outputs": [],
   "source": [
    "args = Argument()\n",
    "dataset = Dataset(args)\n",
    "\n",
    "args.output_vocab_size = len(dataset.TARGET.vocab)\n",
    "args.input_vocab_size = len(dataset.INPUT.vocab)\n",
    "args.output_pad_id = dataset.OUTPUT.vocab.stoi['<pad>']\n",
    "args.output_sos_id = dataset.OUTPUT.vocab.stoi['<sos>']\n",
    "args.output_eos_id = dataset.OUTPUT.vocab.stoi['<eos>']\n",
    "\n",
    "model = Model(args)\n",
    "model = model.to(args.device)"
   ]
  },
  {
   "cell_type": "code",
   "execution_count": null,
   "metadata": {
    "colab": {},
    "colab_type": "code",
    "id": "gRRCZgKTUcWn"
   },
   "outputs": [],
   "source": [
    "print(\"Training...\")\n",
    "optimizer = torch.optim.SGD(model.parameters(), lr=args.lr, momentum=0.9)\n",
    "start_epoch = 0\n",
    "latest_loss = 10000000000\n",
    "for e in range(start_epoch, args.epoch_num):\n",
    "    print(\"Epoch: \", e, \"\\tLearning Rate: \", optimizer.param_groups[0]['lr'])\n",
    "    train(model, optimizer, dataset, args)\n",
    "    valid_loss = evaluate(model, dataset, args)\n",
    "\n",
    "    if args.lrwarm == True :\n",
    "        update_lr(optimizer, args, e)\n",
    "\n",
    "    print(\"Saving model\")\n",
    "    torch.save(model.state_dict(),\n",
    "                args.save_dir + \"ver1_\" + str(e) + \".vloss-\" + str(valid_loss)[:8] + \".lr-\" + str(optimizer.param_groups[0]['lr']))\n",
    "\n",
    "    if valid_loss > latest_loss:\n",
    "        if args.lrdecay == True :\n",
    "            print(\"Learning rate decayed.\")\n",
    "            optimizer.param_groups[0]['lr'] *= 0.5\n",
    "    latest_loss = valid_loss"
   ]
  },
  {
   "cell_type": "code",
   "execution_count": null,
   "metadata": {},
   "outputs": [],
   "source": [
    "model.restore()"
   ]
  },
  {
   "cell_type": "code",
   "execution_count": null,
   "metadata": {
    "colab": {
     "base_uri": "https://localhost:8080/",
     "height": 119
    },
    "colab_type": "code",
    "executionInfo": {
     "elapsed": 69135,
     "status": "ok",
     "timestamp": 1576404269344,
     "user": {
      "displayName": "구노영",
      "photoUrl": "",
      "userId": "06136412286660822920"
     },
     "user_tz": -540
    },
    "id": "9RPdz1jGr5d8",
    "outputId": "5444b97f-324d-44be-d904-ab485ac67821"
   },
   "outputs": [],
   "source": [
    "evaluate(model, dataset, args, validation = False)"
   ]
  },
  {
   "cell_type": "code",
   "execution_count": null,
   "metadata": {
    "colab": {},
    "colab_type": "code",
    "id": "zQ-IEvpjEbyq"
   },
   "outputs": [],
   "source": [
    "preds, tgts = test(model, dataset, beam = False)"
   ]
  },
  {
   "cell_type": "code",
   "execution_count": null,
   "metadata": {},
   "outputs": [],
   "source": [
    "preds_beam, tgts_beam = test(model, dataset, beam = True)"
   ]
  }
 ],
 "metadata": {
  "accelerator": "GPU",
  "colab": {
   "collapsed_sections": [],
   "name": "main.ipynb",
   "provenance": []
  },
  "kernelspec": {
   "display_name": "Python 3",
   "language": "python",
   "name": "python3"
  },
  "language_info": {
   "codemirror_mode": {
    "name": "ipython",
    "version": 3
   },
   "file_extension": ".py",
   "mimetype": "text/x-python",
   "name": "python",
   "nbconvert_exporter": "python",
   "pygments_lexer": "ipython3",
   "version": "3.7.5"
  }
 },
 "nbformat": 4,
 "nbformat_minor": 1
}
